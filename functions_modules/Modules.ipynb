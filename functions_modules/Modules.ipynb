{
 "cells": [
  {
   "cell_type": "markdown",
   "metadata": {
    "slideshow": {
     "slide_type": "slide"
    }
   },
   "source": [
    "![NASA](http://www.nasa.gov/sites/all/themes/custom/nasatwo/images/nasa-logo.svg)\n",
    "\n",
    "<center><h1><font size=\"+3\">GSFC Introductory Python Training</font></h1></center>"
   ]
  },
  {
   "cell_type": "markdown",
   "metadata": {
    "slideshow": {
     "slide_type": "slide"
    }
   },
   "source": [
    "# Modules\n",
    "\n",
    "---\n",
    "\n",
    "Any .py script that you make is essentially a Python module that can be imported."
   ]
  },
  {
   "cell_type": "code",
   "execution_count": null,
   "metadata": {
    "slideshow": {
     "slide_type": "fragment"
    }
   },
   "outputs": [],
   "source": [
    "# write a sample module\n",
    "script = '''x = 2\n",
    "\n",
    "def func():\n",
    "    print('Hi from within a module!')\n",
    "func()\n",
    "'''\n",
    "print(script)\n",
    "\n",
    "with open('sample.py', 'w') as f:\n",
    "    f.write(script)"
   ]
  },
  {
   "cell_type": "code",
   "execution_count": null,
   "metadata": {},
   "outputs": [],
   "source": [
    "# %load sample.py\n",
    "x = 2\n",
    "\n",
    "def func():\n",
    "    print('Hi from within a module!')\n",
    "\n",
    "func()"
   ]
  },
  {
   "cell_type": "code",
   "execution_count": null,
   "metadata": {
    "slideshow": {
     "slide_type": "subslide"
    }
   },
   "outputs": [],
   "source": [
    "# sample.py has to be in your PATH\n",
    "import sample\n",
    "\n",
    "#print(dir(sample))\n",
    "#print(sample.x)\n",
    "#sample.func()"
   ]
  },
  {
   "cell_type": "markdown",
   "metadata": {
    "slideshow": {
     "slide_type": "subslide"
    }
   },
   "source": [
    "# \\_\\_name\\_\\_\n",
    "\n",
    "If a file has a # (shebang) line at the top, then the intent is for the file to be executable. What if we just wanted to import the module and not execute the whole script?\n",
    "\n",
    "```python\n",
    "if __name__ == '__main__':\n",
    "    # Python code\n",
    "```\n",
    "\n",
    "The (magic) variable `__name__` has the value of `__main__` when it is executing the main program. When running a script as an executable, this conditional evaluates to True. If the module is imported, it evaluates to False."
   ]
  },
  {
   "cell_type": "code",
   "execution_count": null,
   "metadata": {
    "slideshow": {
     "slide_type": "fragment"
    }
   },
   "outputs": [],
   "source": [
    "import sample\n",
    "\n",
    "print(sample.__name__)"
   ]
  },
  {
   "cell_type": "markdown",
   "metadata": {
    "slideshow": {
     "slide_type": "subslide"
    }
   },
   "source": [
    "# .pyc Files\n",
    "\n",
    "---\n",
    "\n",
    "Once a module has been imported, a .pyc file is created which contains the interpreted bytecode. You can import a module without the .py file if you have a .pyc file.\n",
    "\n",
    "__Warning:__ Don't lose your .py source code. .pyc files aren't human readable."
   ]
  },
  {
   "cell_type": "markdown",
   "metadata": {
    "slideshow": {
     "slide_type": "subslide"
    }
   },
   "source": [
    "# The Standard Library\n",
    "\n",
    "---\n",
    "\n",
    "[The Python Standard Library](http://docs.python.org/2.7/library/index.html#library-index)\n",
    "\n",
    "This library contains all the functions and modules the come with Python. It is pretty powerful."
   ]
  },
  {
   "cell_type": "markdown",
   "metadata": {
    "slideshow": {
     "slide_type": "subslide"
    }
   },
   "source": [
    "# Packages\n",
    "\n",
    "---\n",
    "\n",
    "If you want to create a directory of modules, that then becomes a package (you will need a \\_\\_init\\_\\_.py file). This is not covered here, but it is very useful."
   ]
  },
  {
   "cell_type": "markdown",
   "metadata": {
    "slideshow": {
     "slide_type": "subslide"
    }
   },
   "source": [
    "# Breakout\n",
    "\n",
    "---\n",
    "\n",
    "Write a module that contains a multi-line string at the top of the file describing what types of projects you work on currently. Please include your name at the bottom of this multi-line string and save it as project_lastname.py.\n",
    "\n",
    "If you want to see how we can use these, run the following:\n",
    "\n",
    "```python\n",
    "import project_lastname\n",
    "print(project_lastname.__doc__)\n",
    "```"
   ]
  }
 ],
 "metadata": {
  "anaconda-cloud": {},
  "kernelspec": {
   "display_name": "Python 3",
   "language": "python",
   "name": "python3"
  },
  "language_info": {
   "codemirror_mode": {
    "name": "ipython",
    "version": 3
   },
   "file_extension": ".py",
   "mimetype": "text/x-python",
   "name": "python",
   "nbconvert_exporter": "python",
   "pygments_lexer": "ipython3",
   "version": "3.7.3"
  }
 },
 "nbformat": 4,
 "nbformat_minor": 1
}
