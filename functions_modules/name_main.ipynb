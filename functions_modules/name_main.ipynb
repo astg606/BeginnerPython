{
 "cells": [
  {
   "cell_type": "markdown",
   "metadata": {},
   "source": [
    "To clarify the differences between `__name__` and `__main__` and to showcase the importance of these within modules, let's start with a sample module."
   ]
  },
  {
   "cell_type": "markdown",
   "metadata": {},
   "source": [
    "__Example 1:__\n",
    "\n",
    "1. First create an ASCII file (my_module.py) with the following contents:\n",
    "  ```python\n",
    "  #! /usr/bin/env python\n",
    "  __name__ = 'My Module name.'\n",
    "  print('I am not main.')\n",
    "\n",
    "  if __name__ == '__main__':\n",
    "      print('I am main.')\n",
    "  ```\n",
    "2. Change the permissions on this file to be executable (Linux/Mac Users: __`chmod +x filename.py`__).\n",
    "\n",
    "Now, we can run this script 3 ways:\n",
    "1. __`import my_module`__ - from within the Python interpreter\n",
    "2. __`python my_module.py`__ - from the terminal/command prompt\n",
    "3. __`./my_module.py`__ - from the terminal/command prompt\n",
    "\n",
    "But, in the Jupyter notebook, we can actually perform all 3 of these."
   ]
  },
  {
   "cell_type": "code",
   "execution_count": 1,
   "metadata": {},
   "outputs": [
    {
     "name": "stdout",
     "output_type": "stream",
     "text": [
      "I am not main.\n"
     ]
    }
   ],
   "source": [
    "%run my_module.py # same as ./my_module.py"
   ]
  },
  {
   "cell_type": "code",
   "execution_count": 2,
   "metadata": {},
   "outputs": [
    {
     "name": "stdout",
     "output_type": "stream",
     "text": [
      "I am not main.\n",
      "\n"
     ]
    }
   ],
   "source": [
    "import subprocess\n",
    "\n",
    "print(subprocess.check_output('python my_module.py', shell=True)) # same as python my_module.py"
   ]
  },
  {
   "cell_type": "code",
   "execution_count": 3,
   "metadata": {},
   "outputs": [
    {
     "name": "stdout",
     "output_type": "stream",
     "text": [
      "I am not main.\n"
     ]
    }
   ],
   "source": [
    "import my_module"
   ]
  },
  {
   "cell_type": "markdown",
   "metadata": {},
   "source": [
    "But wait, these all give the same results! How might we get the conditional to evaluate to be True? Here's a modified code to illustrate this:\n",
    "\n",
    "__Example 2:__\n",
    "\n",
    "```python\n",
    "#! /usr/bin/env python\n",
    "\n",
    "if __name__ == '__main__':\n",
    "    print('I am main.')\n",
    "    print(__name__)\n",
    "else:\n",
    "    print('I am not main.')\n",
    "    print(__name__)\n",
    "```\n",
    "\n",
    "You will notice that I removed the first line that sets the variable `__name__` to something other than `__main__`. I put this code in a second file called my_module2.py."
   ]
  },
  {
   "cell_type": "code",
   "execution_count": 4,
   "metadata": {},
   "outputs": [
    {
     "name": "stdout",
     "output_type": "stream",
     "text": [
      "I am main.\n",
      "__main__\n"
     ]
    }
   ],
   "source": [
    "%run my_module2.py"
   ]
  },
  {
   "cell_type": "code",
   "execution_count": 5,
   "metadata": {},
   "outputs": [
    {
     "name": "stdout",
     "output_type": "stream",
     "text": [
      "I am main.\n",
      "__main__\n",
      "\n"
     ]
    }
   ],
   "source": [
    "import subprocess\n",
    "\n",
    "print(subprocess.check_output('python my_module2.py', shell=True))"
   ]
  },
  {
   "cell_type": "code",
   "execution_count": 6,
   "metadata": {},
   "outputs": [
    {
     "name": "stdout",
     "output_type": "stream",
     "text": [
      "I am not main.\n",
      "my_module2\n"
     ]
    }
   ],
   "source": [
    "import my_module2"
   ]
  },
  {
   "cell_type": "markdown",
   "metadata": {},
   "source": [
    "Aha! So, this is now different. Let me try to explain this behavior."
   ]
  },
  {
   "cell_type": "markdown",
   "metadata": {},
   "source": [
    "1. When we run an executable script/module (i.e., actually execute the executable), `__name__ == __main__`.\n",
    "2. When we import a module, `__name__ == module_name` and doesn't equal `__main__`.\n",
    "\n",
    "Here, a module can have 2 faces: a standalone program, or an imported library/utility. So, why do this? Let me show yet another example."
   ]
  },
  {
   "cell_type": "markdown",
   "metadata": {},
   "source": [
    "__Example 3:__\n",
    "\n",
    "Create pizza.py:\n",
    "\n",
    "```python\n",
    "#! /usr/bin/env python\n",
    "\n",
    "def make_pizza():\n",
    "    print('__name__ in make_pizza function: ' + __name__)\n",
    "    print('Step 1: Create dough.')\n",
    "    print('Step 2: Role dough.')\n",
    "    print('Step 3: Add toppings.')\n",
    "    print('Step 4: Add more cheese.')\n",
    "\n",
    "if __name__ == '__main__':\n",
    "    print('__name__ in conditional of pizza.py: ' + __name__)\n",
    "    make_pizza()\n",
    "```\n",
    "\n",
    "Create bake.py:\n",
    "\n",
    "```python\n",
    "import pizza\n",
    "\n",
    "def cook_pizza():\n",
    "    print('__name__ in cook_pizza function: ' + __name__)\n",
    "    pizza.make_pizza()\n",
    "    print('Turn oven on.')\n",
    "    print('Place in oven.')\n",
    "    print('Cook.')\n",
    "    print('Remove and eat to your heart\\'s desire.')\n",
    "\n",
    "print('__name__ in bake.py: ' + __name__)\n",
    "cook_pizza()\n",
    "```"
   ]
  },
  {
   "cell_type": "markdown",
   "metadata": {},
   "source": [
    "So, if we just want a raw pizza, we execute pizza.py as a script:"
   ]
  },
  {
   "cell_type": "code",
   "execution_count": 7,
   "metadata": {},
   "outputs": [
    {
     "name": "stdout",
     "output_type": "stream",
     "text": [
      "__name__ in conditional of pizza.py: __main__\n",
      "__name__ in make_pizza function: __main__\n",
      "Step 1: Create dough.\n",
      "Step 2: Role dough.\n",
      "Step 3: Add toppings.\n",
      "Step 4: Add more cheese.\n"
     ]
    }
   ],
   "source": [
    "%run pizza.py"
   ]
  },
  {
   "cell_type": "markdown",
   "metadata": {},
   "source": [
    "But, if we wanted to combine the steps of creating a pizza and eating it (YUM!):"
   ]
  },
  {
   "cell_type": "code",
   "execution_count": 8,
   "metadata": {},
   "outputs": [
    {
     "name": "stdout",
     "output_type": "stream",
     "text": [
      "__name__ in bake.py: __main__\n",
      "__name__ in cook_pizza function: __main__\n",
      "__name__ in make_pizza function: pizza\n",
      "Step 1: Create dough.\n",
      "Step 2: Role dough.\n",
      "Step 3: Add toppings.\n",
      "Step 4: Add more cheese.\n",
      "Turn oven on.\n",
      "Place in oven.\n",
      "Cook.\n",
      "Remove and eat to your heart's desire.\n"
     ]
    }
   ],
   "source": [
    "%run bake.py"
   ]
  }
 ],
 "metadata": {
  "kernelspec": {
   "display_name": "Python 3",
   "language": "python",
   "name": "python3"
  },
  "language_info": {
   "codemirror_mode": {
    "name": "ipython",
    "version": 3
   },
   "file_extension": ".py",
   "mimetype": "text/x-python",
   "name": "python",
   "nbconvert_exporter": "python",
   "pygments_lexer": "ipython3",
   "version": "3.7.3"
  }
 },
 "nbformat": 4,
 "nbformat_minor": 1
}
