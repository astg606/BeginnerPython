{
 "cells": [
  {
   "cell_type": "markdown",
   "metadata": {
    "slideshow": {
     "slide_type": "-"
    }
   },
   "source": [
    "![NASA](http://www.nasa.gov/sites/all/themes/custom/nasatwo/images/nasa-logo.svg)\n",
    "\n",
    "<center><h1><font size=\"+3\">GSFC Introductory Python Training</font></h1></center>"
   ]
  },
  {
   "cell_type": "markdown",
   "metadata": {},
   "source": [
    "# Introduction to Python\n",
    "\n",
    "---\n",
    "\n",
    "About Python:\n",
    "\n",
    "1. It is free and open source!\n",
    "2. An interpreted language: Python code needs an interpreter in order for computers to understand it.  \n",
    "> __Note:__ This means there is NO need for a compiler.\n",
    "3. Named after Monty Python's \"Flying Circus\" by Guido van Rossum in 1991 (I've met him!).\n",
    "4. Portable - Python works on all operatins systems.\n",
    "5. Tab/Space-dependent: No ending semicolons (even though they work), and use tabs/spaces to create contexts (see conditionals and loops). See also the Coding Standards lecture.\n",
    "6. Others: Object Oriented, can be integrated with other languages (C, C++, Fortran, etc.), readable, can be used for web applications, etc."
   ]
  },
  {
   "cell_type": "markdown",
   "metadata": {},
   "source": [
    "# Four Ways to Run Python Code\n",
    "\n",
    "---\n",
    "\n",
    "__Note:__ Each of these will be using the same interpreter to translate your Python code into machine code."
   ]
  },
  {
   "cell_type": "markdown",
   "metadata": {},
   "source": [
    "# Ensuring Python Path\n",
    "\n",
    "---\n",
    "\n",
    "With Linux/Unix systems, a default Python interpreter comes with the operating system. To test this, type:\n",
    "\n",
    "```bash\n",
    "which python\n",
    "```\n",
    "\n",
    "in a terminal. If you see:\n",
    "\n",
    "```bash\n",
    "/usr/bin/python\n",
    "```\n",
    "\n",
    "then you have the operating system's Python. __Let us know about this now.__"
   ]
  },
  {
   "cell_type": "markdown",
   "metadata": {},
   "source": [
    "### 1. As a script.\n",
    "\n",
    "---\n",
    "\n",
    "1. Start a new ASCII/text document (do NOT use Microsoft Word) named __helloworld.py__ and enter the following text:\n",
    "\n",
    "    ```python\n",
    "    print('Hello teacher!')\n",
    "    ```\n",
    "\n",
    "2. Save the document and then in your terminal/Anaconda Prompt, change directories to the one containing this file.  \n",
    "> (Use `ls` for Linux/Mac or `dir` for Windows to see the contents of your current directory.)\n",
    "3. Type:\n",
    "\n",
    "    ```bash\n",
    "    python helloworld.py\n",
    "    ```\n",
    "4. You should see the output on the screen. If you do not, raise your hand."
   ]
  },
  {
   "cell_type": "markdown",
   "metadata": {},
   "source": [
    "### 2. In the Python shell\n",
    "\n",
    "---\n",
    "\n",
    "1. Open your terminal/Anaconda Prompt and type:\n",
    "\n",
    "    ```bash\n",
    "    python\n",
    "    ```\n",
    "2. From this interactive shell, you will notice that the prompt is `>>>`. This is now allowing us to type Python code directly and execute it.\n",
    "3. Now type:\n",
    "\n",
    "    ```python\n",
    "    print('Hello world!')\n",
    "    ```\n",
    "4. You should see the output on the screen. If you do not, raise your hand.\n",
    "5. To exit the Python shell type `exit()`"
   ]
  },
  {
   "cell_type": "markdown",
   "metadata": {},
   "source": [
    "### 3. In the IPython (Interactive Python) shell\n",
    "\n",
    "---\n",
    "\n",
    "1. Open your terminal/Anaconda Prompt and type:\n",
    "\n",
    "    ```bash\n",
    "    ipython\n",
    "    ```\n",
    "2. This is an enhanced interactive shell that has many features (tab-completion, woot!). It also has a prompt that is numbered.\n",
    "3. Now type:\n",
    "\n",
    "    ```python\n",
    "    print('Hello world!')\n",
    "    ```\n",
    "4. You should see the output on the screen. If you do not, raise your hand.\n",
    "5. To exit the iPython shell type `exit()` and confirm the exit."
   ]
  },
  {
   "cell_type": "markdown",
   "metadata": {},
   "source": [
    "### 4. Jupyter/IPython notebook\n",
    "\n",
    "---\n",
    "\n",
    "1. Open your terminal/Anaconda Prompt and type:\n",
    "\n",
    "    ```bash\n",
    "    jupyter notebook\n",
    "    ```\n",
    "2. This directs you to a web browser and you can navigate to an already existing notebook or create one (right side menu New -> Python 2).\n",
    "3. This will open up a new Untitled notebook where you can directly input Python code, Markup formatted text, or have raw text.\n",
    "4. Now type:\n",
    "\n",
    "    ```python\n",
    "    print('Hello world!')\n",
    "    ```\n",
    "5. Press __Shift+Enter__, __Cntrl+Enter__ or click __Cells -> Run Cells__ or use the __Play button__ near the top of the page.\n",
    "6. You should see the output on the screen. If you do not, raise your hand.\n",
    "7. Exit via closing the browser windows and stopping the server running in the terminal/command prompt (most likely with a __Cntrl+C__).\n",
    "\n",
    "__Note:__ Sometimes for Windows users you will launch these notebooks with `ipython notebook` rather than `jupyter notebook`. This is due to a split in development of the Jupyter notebooks to support many languages other than Python (used to be named the IPython notebook too)."
   ]
  },
  {
   "cell_type": "markdown",
   "metadata": {},
   "source": [
    "### Other ways:\n",
    "\n",
    "* [Google Colaboratory](http://colab.research.google.com)\n",
    "* [Binder](http://mybinder.org)\n",
    "* [Microsoft Azure](http://notebooks.azure.com)"
   ]
  },
  {
   "cell_type": "markdown",
   "metadata": {
    "slideshow": {
     "slide_type": "-"
    }
   },
   "source": [
    "# Git Primer\n",
    "\n",
    "---\n",
    "\n",
    "Git is an open source, version control system that we use to track changes to the files/presentations in this training. We store these files and a history of changes online at GitHub."
   ]
  },
  {
   "cell_type": "markdown",
   "metadata": {
    "slideshow": {
     "slide_type": "-"
    }
   },
   "source": [
    "### Common Commands\n",
    "\n",
    "---\n",
    "\n",
    "All of these commands are available if your current directory is within a git repository. You will be using the Git Bash (Windows) or terminal (Linux/Mac) to perform any Git commands (separate from running Python code).\n",
    "\n",
    "* __`git status`__ - Lets you see what changes you've made before your last commit/save\n",
    "* __`git pull`__ - Attempts to update your repository with the remote (can be local or on another server)\n",
    "* __`git stash`__ - Takes all changes since your last save/commit and stores them temporarily\n",
    "  * __`git stash list`__ - Lists the stashes of changes you have\n",
    "  * __`git stash apply`__ - Restores those modifications/changes that were stashed away\n",
    "* __`git add`__ - Tracked files are now flaged as in the staging area before you save/commit\n",
    "* __`git commit`__ - Allows you to save tracked changes from the staging area into the history of the repository"
   ]
  },
  {
   "cell_type": "markdown",
   "metadata": {
    "slideshow": {
     "slide_type": "-"
    }
   },
   "source": [
    "![git](https://git-scm.com/book/en/v2/images/areas.png)"
   ]
  },
  {
   "cell_type": "markdown",
   "metadata": {
    "slideshow": {
     "slide_type": "-"
    }
   },
   "source": [
    "### Reference Links\n",
    "\n",
    "---\n",
    "\n",
    "* [http://git-scm.com](http://git-scm.com)\n",
    "* [http://github.com](http://github.com)\n",
    "* [http://try.github.io](http://try.github.io)\n",
    "* [http://learnxinyminutes.com/docs/git/](http://learnxinyminutes.com/docs/git/)\n",
    "* [http://git-scm.com/book/en/v2](http://git-scm.com/book/en/v2)"
   ]
  },
  {
   "cell_type": "markdown",
   "metadata": {
    "slideshow": {
     "slide_type": "-"
    }
   },
   "source": [
    "# Obtaining the Lectures\n",
    "\n",
    "---\n",
    "\n",
    "Obtain this lecture's materials from the public GitHub repository (just a hosting platform) by one of the following methods:\n",
    "\n",
    "* Linux/Unix:\n",
    "\n",
    "  * From the terminal/command line:\n",
    "  \n",
    "    ```bash\n",
    "    git clone https://github.com/astg606/BeginnerPython/run_python.git\n",
    "    ```\n",
    "\n",
    "  * From within a Jupyter notebook: (see below)\n",
    "  \n",
    "* Windows:\n",
    "\n",
    "  * Git Bash:\n",
    "  \n",
    "    ```bash\n",
    "    git clone https://github.com/astg606/BeginnerPython/run_python.git\n",
    "    ```\n",
    "\n",
    "* Those without Git installed:\n",
    "\n",
    "  * .zip file is available on the website:\n",
    "  \n",
    "    ```bash\n",
    "    https://github.com/astg606/BeginnerPython/run_python/archive/master.zip\n",
    "    ```\n",
    "\n",
    "Once you obtain the lectures, you will then have on your platform the directory `run_python` that contains all the materials for only this lecture. You will need to do this for all the other lectures in this series."
   ]
  },
  {
   "cell_type": "code",
   "execution_count": null,
   "metadata": {},
   "outputs": [],
   "source": [
    "!git clone https://github.com/astg606/BeginnerPython/run_python.git"
   ]
  },
  {
   "cell_type": "markdown",
   "metadata": {
    "collapsed": true,
    "slideshow": {
     "slide_type": "-"
    }
   },
   "source": [
    "# Python Basics\n",
    "\n",
    "---\n",
    "\n",
    "Python can be used a simple calculator or as robust as creation computational models (yes, numerical models can be built in Python)."
   ]
  },
  {
   "cell_type": "code",
   "execution_count": null,
   "metadata": {
    "slideshow": {
     "slide_type": "-"
    }
   },
   "outputs": [],
   "source": [
    "# more complex libraries/packages are available\n",
    "import math\n",
    "\n",
    "angle = math.cos(math.pi)\n",
    "print(angle)"
   ]
  },
  {
   "cell_type": "markdown",
   "metadata": {
    "slideshow": {
     "slide_type": "-"
    }
   },
   "source": [
    "### The Print Statement\n",
    "\n",
    "---\n",
    "\n",
    "```python\n",
    "print 'Hi class!'\n",
    "\n",
    "print('Hello, class!')\n",
    "```\n",
    "\n",
    "__Note:__ In Python 3.x, it is a print function (you have to use parentheses).  \n",
    "__Note:__ [Python Clock](http://pythonclock.org)"
   ]
  }
 ],
 "metadata": {
  "anaconda-cloud": {},
  "celltoolbar": "Slideshow",
  "kernelspec": {
   "display_name": "Python 3",
   "language": "python",
   "name": "python3"
  },
  "language_info": {
   "codemirror_mode": {
    "name": "ipython",
    "version": 3
   },
   "file_extension": ".py",
   "mimetype": "text/x-python",
   "name": "python",
   "nbconvert_exporter": "python",
   "pygments_lexer": "ipython3",
   "version": "3.7.1"
  }
 },
 "nbformat": 4,
 "nbformat_minor": 2
}
